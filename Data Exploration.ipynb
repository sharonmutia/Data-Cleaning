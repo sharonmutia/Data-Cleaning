{
 "cells": [
  {
   "cell_type": "markdown",
   "metadata": {},
   "source": [
    "# Loan Data Analysis"
   ]
  },
  {
   "cell_type": "code",
   "execution_count": 1,
   "metadata": {},
   "outputs": [],
   "source": [
    "#Importing Relevant Libraries\n",
    "\n",
    "import numpy as np\n",
    "import pandas as pd"
   ]
  },
  {
   "cell_type": "code",
   "execution_count": 2,
   "metadata": {
    "scrolled": true
   },
   "outputs": [],
   "source": [
    "#Import Data\n",
    "\n",
    "data=pd.read_csv('LoanApprovalData.csv',sep=',')"
   ]
  },
  {
   "cell_type": "markdown",
   "metadata": {},
   "source": [
    "## Data Exploration"
   ]
  },
  {
   "cell_type": "code",
   "execution_count": 3,
   "metadata": {},
   "outputs": [
    {
     "data": {
      "text/plain": [
       "Index(['occ', 'loanamt', 'action', 'msa', 'suffolk', 'appinc', 'typur', 'unit',\n",
       "       'married', 'dep', 'emp', 'yjob', 'self', 'atotinc', 'cototinc', 'hexp',\n",
       "       'price', 'other', 'liq', 'rep', 'gdlin', 'lines', 'mortg', 'cons',\n",
       "       'pubrec', 'hrat', 'obrat', 'fixadj', 'term', 'apr', 'prop', 'inss',\n",
       "       'inson', 'gift', 'cosign', 'unver', 'review', 'netw', 'unem', 'min30',\n",
       "       'bd', 'mi', 'old', 'vr', 'sch', 'black', 'hispan', 'male', 'reject',\n",
       "       'approve', 'mortno', 'mortperf', 'mortlat1', 'mortlat2', 'chist',\n",
       "       'multi', 'loanprc', 'thick', 'white'],\n",
       "      dtype='object')"
      ]
     },
     "execution_count": 3,
     "metadata": {},
     "output_type": "execute_result"
    }
   ],
   "source": [
    "#Discovering the variables\n",
    "data.columns"
   ]
  },
  {
   "cell_type": "code",
   "execution_count": 4,
   "metadata": {},
   "outputs": [
    {
     "data": {
      "text/plain": [
       "(1989, 59)"
      ]
     },
     "execution_count": 4,
     "metadata": {},
     "output_type": "execute_result"
    }
   ],
   "source": [
    "#Discovering the variables\n",
    "data.shape"
   ]
  },
  {
   "cell_type": "code",
   "execution_count": 5,
   "metadata": {},
   "outputs": [],
   "source": [
    "#Selecting Variables of Interest\n",
    "\n",
    "df = data.drop(['occ', 'action', 'msa', 'suffolk', 'appinc', 'typur', 'unit',\n",
    "        'dep', 'emp', 'yjob', 'self', 'atotinc', 'cototinc', 'hexp',\n",
    "       'price', 'other', 'liq', 'rep', 'gdlin', 'lines', 'mortg', 'cons',\n",
    "       'pubrec', 'hrat', 'obrat', 'fixadj', 'term', 'apr', 'prop', 'inss',\n",
    "       'inson', 'gift', 'cosign', 'unver', 'review', 'netw', 'unem', 'min30',\n",
    "       'bd', 'mi', 'vr', 'black', 'hispan', 'reject','approve', 'mortno', 'mortperf', 'mortlat1', 'mortlat2', 'chist',\n",
    "       'multi', 'loanprc', 'thick', 'white'], axis=1)"
   ]
  },
  {
   "cell_type": "code",
   "execution_count": 7,
   "metadata": {},
   "outputs": [
    {
     "data": {
      "text/html": [
       "<div>\n",
       "<style scoped>\n",
       "    .dataframe tbody tr th:only-of-type {\n",
       "        vertical-align: middle;\n",
       "    }\n",
       "\n",
       "    .dataframe tbody tr th {\n",
       "        vertical-align: top;\n",
       "    }\n",
       "\n",
       "    .dataframe thead th {\n",
       "        text-align: right;\n",
       "    }\n",
       "</style>\n",
       "<table border=\"1\" class=\"dataframe\">\n",
       "  <thead>\n",
       "    <tr style=\"text-align: right;\">\n",
       "      <th></th>\n",
       "      <th>loanamt</th>\n",
       "      <th>married</th>\n",
       "      <th>old</th>\n",
       "      <th>sch</th>\n",
       "      <th>male</th>\n",
       "    </tr>\n",
       "  </thead>\n",
       "  <tbody>\n",
       "    <tr>\n",
       "      <th>0</th>\n",
       "      <td>89</td>\n",
       "      <td>0.0</td>\n",
       "      <td>0</td>\n",
       "      <td>1</td>\n",
       "      <td>NaN</td>\n",
       "    </tr>\n",
       "    <tr>\n",
       "      <th>1</th>\n",
       "      <td>128</td>\n",
       "      <td>1.0</td>\n",
       "      <td>0</td>\n",
       "      <td>1</td>\n",
       "      <td>1.0</td>\n",
       "    </tr>\n",
       "    <tr>\n",
       "      <th>2</th>\n",
       "      <td>128</td>\n",
       "      <td>0.0</td>\n",
       "      <td>0</td>\n",
       "      <td>1</td>\n",
       "      <td>1.0</td>\n",
       "    </tr>\n",
       "    <tr>\n",
       "      <th>3</th>\n",
       "      <td>66</td>\n",
       "      <td>1.0</td>\n",
       "      <td>1</td>\n",
       "      <td>1</td>\n",
       "      <td>1.0</td>\n",
       "    </tr>\n",
       "    <tr>\n",
       "      <th>4</th>\n",
       "      <td>120</td>\n",
       "      <td>1.0</td>\n",
       "      <td>0</td>\n",
       "      <td>0</td>\n",
       "      <td>1.0</td>\n",
       "    </tr>\n",
       "  </tbody>\n",
       "</table>\n",
       "</div>"
      ],
      "text/plain": [
       "   loanamt  married  old  sch  male\n",
       "0       89      0.0    0    1   NaN\n",
       "1      128      1.0    0    1   1.0\n",
       "2      128      0.0    0    1   1.0\n",
       "3       66      1.0    1    1   1.0\n",
       "4      120      1.0    0    0   1.0"
      ]
     },
     "execution_count": 7,
     "metadata": {},
     "output_type": "execute_result"
    }
   ],
   "source": [
    "#A Sample of the Data\n",
    "df.head()"
   ]
  },
  {
   "cell_type": "code",
   "execution_count": 8,
   "metadata": {},
   "outputs": [
    {
     "data": {
      "text/html": [
       "<div>\n",
       "<style scoped>\n",
       "    .dataframe tbody tr th:only-of-type {\n",
       "        vertical-align: middle;\n",
       "    }\n",
       "\n",
       "    .dataframe tbody tr th {\n",
       "        vertical-align: top;\n",
       "    }\n",
       "\n",
       "    .dataframe thead th {\n",
       "        text-align: right;\n",
       "    }\n",
       "</style>\n",
       "<table border=\"1\" class=\"dataframe\">\n",
       "  <thead>\n",
       "    <tr style=\"text-align: right;\">\n",
       "      <th></th>\n",
       "      <th>loanamt</th>\n",
       "      <th>married</th>\n",
       "      <th>old</th>\n",
       "      <th>sch</th>\n",
       "      <th>male</th>\n",
       "      <th>loancategory</th>\n",
       "    </tr>\n",
       "  </thead>\n",
       "  <tbody>\n",
       "    <tr>\n",
       "      <th>0</th>\n",
       "      <td>89</td>\n",
       "      <td>0.0</td>\n",
       "      <td>0</td>\n",
       "      <td>1</td>\n",
       "      <td>NaN</td>\n",
       "      <td>Low Value</td>\n",
       "    </tr>\n",
       "    <tr>\n",
       "      <th>1</th>\n",
       "      <td>128</td>\n",
       "      <td>1.0</td>\n",
       "      <td>0</td>\n",
       "      <td>1</td>\n",
       "      <td>1.0</td>\n",
       "      <td>High Value</td>\n",
       "    </tr>\n",
       "    <tr>\n",
       "      <th>2</th>\n",
       "      <td>128</td>\n",
       "      <td>0.0</td>\n",
       "      <td>0</td>\n",
       "      <td>1</td>\n",
       "      <td>1.0</td>\n",
       "      <td>High Value</td>\n",
       "    </tr>\n",
       "    <tr>\n",
       "      <th>3</th>\n",
       "      <td>66</td>\n",
       "      <td>1.0</td>\n",
       "      <td>1</td>\n",
       "      <td>1</td>\n",
       "      <td>1.0</td>\n",
       "      <td>Low Value</td>\n",
       "    </tr>\n",
       "    <tr>\n",
       "      <th>4</th>\n",
       "      <td>120</td>\n",
       "      <td>1.0</td>\n",
       "      <td>0</td>\n",
       "      <td>0</td>\n",
       "      <td>1.0</td>\n",
       "      <td>Average</td>\n",
       "    </tr>\n",
       "  </tbody>\n",
       "</table>\n",
       "</div>"
      ],
      "text/plain": [
       "   loanamt  married  old  sch  male loancategory\n",
       "0       89      0.0    0    1   NaN    Low Value\n",
       "1      128      1.0    0    1   1.0   High Value\n",
       "2      128      0.0    0    1   1.0   High Value\n",
       "3       66      1.0    1    1   1.0    Low Value\n",
       "4      120      1.0    0    0   1.0      Average"
      ]
     },
     "execution_count": 8,
     "metadata": {},
     "output_type": "execute_result"
    }
   ],
   "source": [
    "#Introducing a variable that categorizes loan amounts into 3 bins- low, average and high value\n",
    "\n",
    "z=[]\n",
    "\n",
    "for x in df['loanamt']:\n",
    "    if x<=100:\n",
    "        z.append('Low Value')\n",
    "    elif 100 < x <= 126:\n",
    "        z.append('Average')\n",
    "    elif x>126:\n",
    "        z.append('High Value')\n",
    "        \n",
    "y=pd.DataFrame(z,columns=['loancategory'])\n",
    "\n",
    "df=pd.concat([df,y],axis=1,ignore_index=True)\n",
    "\n",
    "df.columns=['loanamt','married','old','sch','male','loancategory']\n",
    "\n",
    "#To view a sample of the new data frame\n",
    "df.head()\n"
   ]
  },
  {
   "cell_type": "code",
   "execution_count": 9,
   "metadata": {},
   "outputs": [
    {
     "name": "stdout",
     "output_type": "stream",
     "text": [
      "[ 0.  1. nan]\n",
      "[0 1]\n",
      "[1 0]\n",
      "[nan  1.  0.]\n"
     ]
    }
   ],
   "source": [
    "#Exploring the Categorical Variables\n",
    "\n",
    "print(df['married'].unique())\n",
    "print(df['old'].unique())\n",
    "print(df['sch'].unique())\n",
    "print(df['male'].unique())"
   ]
  },
  {
   "cell_type": "code",
   "execution_count": 9,
   "metadata": {},
   "outputs": [
    {
     "data": {
      "text/plain": [
       "loanamt          0\n",
       "married          3\n",
       "old              0\n",
       "sch              0\n",
       "male            15\n",
       "loancategory     0\n",
       "dtype: int64"
      ]
     },
     "execution_count": 9,
     "metadata": {},
     "output_type": "execute_result"
    }
   ],
   "source": [
    "#Checking for Null Values\n",
    "\n",
    "df.isnull().sum()"
   ]
  },
  {
   "cell_type": "code",
   "execution_count": 10,
   "metadata": {},
   "outputs": [],
   "source": [
    "#Dropping Null Values\n",
    "\n",
    "df=df.dropna()"
   ]
  },
  {
   "cell_type": "code",
   "execution_count": 11,
   "metadata": {},
   "outputs": [
    {
     "data": {
      "text/plain": [
       "loanamt         0\n",
       "married         0\n",
       "old             0\n",
       "sch             0\n",
       "male            0\n",
       "loancategory    0\n",
       "dtype: int64"
      ]
     },
     "execution_count": 11,
     "metadata": {},
     "output_type": "execute_result"
    }
   ],
   "source": [
    "df.isnull().sum()"
   ]
  },
  {
   "cell_type": "code",
   "execution_count": 19,
   "metadata": {},
   "outputs": [
    {
     "data": {
      "text/plain": [
       "married         2\n",
       "old             2\n",
       "sch             2\n",
       "male            2\n",
       "loancategory    3\n",
       "dtype: int64"
      ]
     },
     "execution_count": 19,
     "metadata": {},
     "output_type": "execute_result"
    }
   ],
   "source": [
    "#Exploring the Data After Deleting Null Values\n",
    "\n",
    "df1=df.drop(['loanamt'], axis=1)\n",
    "df1.nunique()"
   ]
  },
  {
   "cell_type": "code",
   "execution_count": 20,
   "metadata": {},
   "outputs": [
    {
     "name": "stdout",
     "output_type": "stream",
     "text": [
      "[1 0]\n",
      "[0 1]\n",
      "[1 0]\n",
      "[1 0]\n",
      "['High Value' 'Low Value' 'Average']\n"
     ]
    }
   ],
   "source": [
    "#Getting the Range of Values for the Categorical Data\n",
    "\n",
    "print(df['married'].unique())\n",
    "print(df['old'].unique())\n",
    "print(df['sch'].unique())\n",
    "print(df['male'].unique())\n",
    "print(df['loancategory'].unique())"
   ]
  },
  {
   "cell_type": "code",
   "execution_count": 12,
   "metadata": {},
   "outputs": [
    {
     "name": "stdout",
     "output_type": "stream",
     "text": [
      "<class 'pandas.core.frame.DataFrame'>\n",
      "Int64Index: 1971 entries, 1 to 1988\n",
      "Data columns (total 6 columns):\n",
      "loanamt         1971 non-null int64\n",
      "married         1971 non-null float64\n",
      "old             1971 non-null int64\n",
      "sch             1971 non-null int64\n",
      "male            1971 non-null float64\n",
      "loancategory    1971 non-null object\n",
      "dtypes: float64(2), int64(3), object(1)\n",
      "memory usage: 107.8+ KB\n"
     ]
    }
   ],
   "source": [
    "#Getting Information about the Data Set\n",
    "\n",
    "df.info()"
   ]
  },
  {
   "cell_type": "code",
   "execution_count": 13,
   "metadata": {},
   "outputs": [],
   "source": [
    "#Setting the Data Type for Categorical Variables to Integers\n",
    "\n",
    "df['loanamt'] = df['loanamt'].astype('float')\n",
    "\n",
    "df['married'] = df['married'].astype('int')\n",
    "\n",
    "df['male'] = df['male'] .astype('int')"
   ]
  },
  {
   "cell_type": "code",
   "execution_count": 14,
   "metadata": {
    "scrolled": true
   },
   "outputs": [
    {
     "data": {
      "text/plain": [
       "loanamt         float64\n",
       "married           int32\n",
       "old               int64\n",
       "sch               int64\n",
       "male              int32\n",
       "loancategory     object\n",
       "dtype: object"
      ]
     },
     "execution_count": 14,
     "metadata": {},
     "output_type": "execute_result"
    }
   ],
   "source": [
    "df.dtypes"
   ]
  },
  {
   "cell_type": "code",
   "execution_count": 15,
   "metadata": {},
   "outputs": [
    {
     "data": {
      "text/plain": [
       "(1971, 6)"
      ]
     },
     "execution_count": 15,
     "metadata": {},
     "output_type": "execute_result"
    }
   ],
   "source": [
    "df.shape"
   ]
  },
  {
   "cell_type": "code",
   "execution_count": 16,
   "metadata": {},
   "outputs": [
    {
     "data": {
      "text/plain": [
       "count    1971.000000\n",
       "mean      143.445967\n",
       "std        80.784168\n",
       "min         2.000000\n",
       "25%       100.000000\n",
       "50%       126.000000\n",
       "75%       165.000000\n",
       "max       980.000000\n",
       "Name: loanamt, dtype: float64"
      ]
     },
     "execution_count": 16,
     "metadata": {},
     "output_type": "execute_result"
    }
   ],
   "source": [
    "#Getting Summary Statistics for the Continuous Variable- Loan Amount\n",
    "\n",
    "df['loanamt'].describe()"
   ]
  },
  {
   "cell_type": "code",
   "execution_count": 17,
   "metadata": {},
   "outputs": [],
   "source": [
    "import seaborn as sns"
   ]
  },
  {
   "cell_type": "code",
   "execution_count": 18,
   "metadata": {},
   "outputs": [
    {
     "data": {
      "text/plain": [
       "<matplotlib.axes._subplots.AxesSubplot at 0x192b375b208>"
      ]
     },
     "execution_count": 18,
     "metadata": {},
     "output_type": "execute_result"
    },
    {
     "data": {
      "image/png": "[encoded data removed]",
      "text/plain": [
       "<Figure size 432x288 with 1 Axes>"
      ]
     },
     "metadata": {
      "needs_background": "light"
     },
     "output_type": "display_data"
    }
   ],
   "source": [
    "#Visualizing the Loan Amounts and Identifying Outliers of the Dataset\n",
    "\n",
    "sns.boxplot(x=df['loanamt'])"
   ]
  },
  {
   "cell_type": "code",
   "execution_count": 21,
   "metadata": {},
   "outputs": [
    {
     "data": {
      "text/plain": [
       "1    0.659564\n",
       "0    0.340436\n",
       "Name: married, dtype: float64"
      ]
     },
     "execution_count": 21,
     "metadata": {},
     "output_type": "execute_result"
    }
   ],
   "source": [
    "#Determining the Balance of the Data\n",
    "\n",
    "df1['married'].value_counts(normalize=True)"
   ]
  },
  {
   "cell_type": "code",
   "execution_count": 22,
   "metadata": {},
   "outputs": [
    {
     "data": {
      "text/plain": [
       "0    0.531202\n",
       "1    0.468798\n",
       "Name: old, dtype: float64"
      ]
     },
     "execution_count": 22,
     "metadata": {},
     "output_type": "execute_result"
    }
   ],
   "source": [
    "#Determining the Balance of the Data\n",
    "\n",
    "df1['old'].value_counts(normalize=True)"
   ]
  },
  {
   "cell_type": "code",
   "execution_count": 23,
   "metadata": {},
   "outputs": [
    {
     "data": {
      "text/plain": [
       "1    0.770167\n",
       "0    0.229833\n",
       "Name: sch, dtype: float64"
      ]
     },
     "execution_count": 23,
     "metadata": {},
     "output_type": "execute_result"
    }
   ],
   "source": [
    "#Determining the Balance of the Data\n",
    "\n",
    "df1['sch'].value_counts(normalize=True)"
   ]
  },
  {
   "cell_type": "code",
   "execution_count": 24,
   "metadata": {},
   "outputs": [
    {
     "data": {
      "text/plain": [
       "1    0.813293\n",
       "0    0.186707\n",
       "Name: male, dtype: float64"
      ]
     },
     "execution_count": 24,
     "metadata": {},
     "output_type": "execute_result"
    }
   ],
   "source": [
    "#Determining the Balance of the Data\n",
    "\n",
    "df1['male'].value_counts(normalize=True)"
   ]
  },
  {
   "cell_type": "code",
   "execution_count": 25,
   "metadata": {},
   "outputs": [
    {
     "data": {
      "text/plain": [
       "High Value    0.499239\n",
       "Low Value     0.263318\n",
       "Average       0.237443\n",
       "Name: loancategory, dtype: float64"
      ]
     },
     "execution_count": 25,
     "metadata": {},
     "output_type": "execute_result"
    }
   ],
   "source": [
    "#Determining the Balance of the Data\n",
    "\n",
    "df1['loancategory'].value_counts(normalize=True)"
   ]
  },
  {
   "cell_type": "markdown",
   "metadata": {},
   "source": [
    "## Exploring Relationships in the Data Using Cross Tabulation"
   ]
  },
  {
   "cell_type": "code",
   "execution_count": 26,
   "metadata": {},
   "outputs": [
    {
     "data": {
      "text/html": [
       "<div>\n",
       "<style scoped>\n",
       "    .dataframe tbody tr th:only-of-type {\n",
       "        vertical-align: middle;\n",
       "    }\n",
       "\n",
       "    .dataframe tbody tr th {\n",
       "        vertical-align: top;\n",
       "    }\n",
       "\n",
       "    .dataframe thead th {\n",
       "        text-align: right;\n",
       "    }\n",
       "</style>\n",
       "<table border=\"1\" class=\"dataframe\">\n",
       "  <thead>\n",
       "    <tr style=\"text-align: right;\">\n",
       "      <th>married</th>\n",
       "      <th>0</th>\n",
       "      <th>1</th>\n",
       "      <th>All</th>\n",
       "    </tr>\n",
       "    <tr>\n",
       "      <th>loancategory</th>\n",
       "      <th></th>\n",
       "      <th></th>\n",
       "      <th></th>\n",
       "    </tr>\n",
       "  </thead>\n",
       "  <tbody>\n",
       "    <tr>\n",
       "      <th>Average</th>\n",
       "      <td>178</td>\n",
       "      <td>290</td>\n",
       "      <td>468</td>\n",
       "    </tr>\n",
       "    <tr>\n",
       "      <th>High Value</th>\n",
       "      <td>258</td>\n",
       "      <td>726</td>\n",
       "      <td>984</td>\n",
       "    </tr>\n",
       "    <tr>\n",
       "      <th>Low Value</th>\n",
       "      <td>235</td>\n",
       "      <td>284</td>\n",
       "      <td>519</td>\n",
       "    </tr>\n",
       "    <tr>\n",
       "      <th>All</th>\n",
       "      <td>671</td>\n",
       "      <td>1300</td>\n",
       "      <td>1971</td>\n",
       "    </tr>\n",
       "  </tbody>\n",
       "</table>\n",
       "</div>"
      ],
      "text/plain": [
       "married         0     1   All\n",
       "loancategory                 \n",
       "Average       178   290   468\n",
       "High Value    258   726   984\n",
       "Low Value     235   284   519\n",
       "All           671  1300  1971"
      ]
     },
     "execution_count": 26,
     "metadata": {},
     "output_type": "execute_result"
    }
   ],
   "source": [
    "#Cross Tabulation\n",
    "\n",
    "pd.crosstab(df['loancategory'],df['married'], margins=True)"
   ]
  },
  {
   "cell_type": "code",
   "execution_count": 27,
   "metadata": {},
   "outputs": [
    {
     "data": {
      "text/html": [
       "<div>\n",
       "<style scoped>\n",
       "    .dataframe tbody tr th:only-of-type {\n",
       "        vertical-align: middle;\n",
       "    }\n",
       "\n",
       "    .dataframe tbody tr th {\n",
       "        vertical-align: top;\n",
       "    }\n",
       "\n",
       "    .dataframe thead th {\n",
       "        text-align: right;\n",
       "    }\n",
       "</style>\n",
       "<table border=\"1\" class=\"dataframe\">\n",
       "  <thead>\n",
       "    <tr style=\"text-align: right;\">\n",
       "      <th>married</th>\n",
       "      <th>0</th>\n",
       "      <th>1</th>\n",
       "      <th>All</th>\n",
       "    </tr>\n",
       "    <tr>\n",
       "      <th>loancategory</th>\n",
       "      <th></th>\n",
       "      <th></th>\n",
       "      <th></th>\n",
       "    </tr>\n",
       "  </thead>\n",
       "  <tbody>\n",
       "    <tr>\n",
       "      <th>Average</th>\n",
       "      <td>0.090309</td>\n",
       "      <td>0.147133</td>\n",
       "      <td>0.237443</td>\n",
       "    </tr>\n",
       "    <tr>\n",
       "      <th>High Value</th>\n",
       "      <td>0.130898</td>\n",
       "      <td>0.368341</td>\n",
       "      <td>0.499239</td>\n",
       "    </tr>\n",
       "    <tr>\n",
       "      <th>Low Value</th>\n",
       "      <td>0.119229</td>\n",
       "      <td>0.144089</td>\n",
       "      <td>0.263318</td>\n",
       "    </tr>\n",
       "    <tr>\n",
       "      <th>All</th>\n",
       "      <td>0.340436</td>\n",
       "      <td>0.659564</td>\n",
       "      <td>1.000000</td>\n",
       "    </tr>\n",
       "  </tbody>\n",
       "</table>\n",
       "</div>"
      ],
      "text/plain": [
       "married              0         1       All\n",
       "loancategory                              \n",
       "Average       0.090309  0.147133  0.237443\n",
       "High Value    0.130898  0.368341  0.499239\n",
       "Low Value     0.119229  0.144089  0.263318\n",
       "All           0.340436  0.659564  1.000000"
      ]
     },
     "execution_count": 27,
     "metadata": {},
     "output_type": "execute_result"
    }
   ],
   "source": [
    "#Cross Tabulation\n",
    "\n",
    "pd.crosstab(df['loancategory'],df['married'], margins=True,normalize=True)"
   ]
  },
  {
   "cell_type": "code",
   "execution_count": 28,
   "metadata": {},
   "outputs": [
    {
     "data": {
      "text/html": [
       "<div>\n",
       "<style scoped>\n",
       "    .dataframe tbody tr th:only-of-type {\n",
       "        vertical-align: middle;\n",
       "    }\n",
       "\n",
       "    .dataframe tbody tr th {\n",
       "        vertical-align: top;\n",
       "    }\n",
       "\n",
       "    .dataframe thead th {\n",
       "        text-align: right;\n",
       "    }\n",
       "</style>\n",
       "<table border=\"1\" class=\"dataframe\">\n",
       "  <thead>\n",
       "    <tr style=\"text-align: right;\">\n",
       "      <th>old</th>\n",
       "      <th>0</th>\n",
       "      <th>1</th>\n",
       "      <th>All</th>\n",
       "    </tr>\n",
       "    <tr>\n",
       "      <th>loancategory</th>\n",
       "      <th></th>\n",
       "      <th></th>\n",
       "      <th></th>\n",
       "    </tr>\n",
       "  </thead>\n",
       "  <tbody>\n",
       "    <tr>\n",
       "      <th>Average</th>\n",
       "      <td>0.150178</td>\n",
       "      <td>0.087265</td>\n",
       "      <td>0.237443</td>\n",
       "    </tr>\n",
       "    <tr>\n",
       "      <th>High Value</th>\n",
       "      <td>0.255708</td>\n",
       "      <td>0.243531</td>\n",
       "      <td>0.499239</td>\n",
       "    </tr>\n",
       "    <tr>\n",
       "      <th>Low Value</th>\n",
       "      <td>0.125317</td>\n",
       "      <td>0.138001</td>\n",
       "      <td>0.263318</td>\n",
       "    </tr>\n",
       "    <tr>\n",
       "      <th>All</th>\n",
       "      <td>0.531202</td>\n",
       "      <td>0.468798</td>\n",
       "      <td>1.000000</td>\n",
       "    </tr>\n",
       "  </tbody>\n",
       "</table>\n",
       "</div>"
      ],
      "text/plain": [
       "old                  0         1       All\n",
       "loancategory                              \n",
       "Average       0.150178  0.087265  0.237443\n",
       "High Value    0.255708  0.243531  0.499239\n",
       "Low Value     0.125317  0.138001  0.263318\n",
       "All           0.531202  0.468798  1.000000"
      ]
     },
     "execution_count": 28,
     "metadata": {},
     "output_type": "execute_result"
    }
   ],
   "source": [
    "#Cross Tabulation\n",
    "\n",
    "pd.crosstab(df['loancategory'],df['old'], margins=True,normalize=True)"
   ]
  },
  {
   "cell_type": "code",
   "execution_count": 29,
   "metadata": {},
   "outputs": [
    {
     "data": {
      "text/html": [
       "<div>\n",
       "<style scoped>\n",
       "    .dataframe tbody tr th:only-of-type {\n",
       "        vertical-align: middle;\n",
       "    }\n",
       "\n",
       "    .dataframe tbody tr th {\n",
       "        vertical-align: top;\n",
       "    }\n",
       "\n",
       "    .dataframe thead th {\n",
       "        text-align: right;\n",
       "    }\n",
       "</style>\n",
       "<table border=\"1\" class=\"dataframe\">\n",
       "  <thead>\n",
       "    <tr style=\"text-align: right;\">\n",
       "      <th>sch</th>\n",
       "      <th>0</th>\n",
       "      <th>1</th>\n",
       "      <th>All</th>\n",
       "    </tr>\n",
       "    <tr>\n",
       "      <th>loancategory</th>\n",
       "      <th></th>\n",
       "      <th></th>\n",
       "      <th></th>\n",
       "    </tr>\n",
       "  </thead>\n",
       "  <tbody>\n",
       "    <tr>\n",
       "      <th>Average</th>\n",
       "      <td>0.069508</td>\n",
       "      <td>0.167935</td>\n",
       "      <td>0.237443</td>\n",
       "    </tr>\n",
       "    <tr>\n",
       "      <th>High Value</th>\n",
       "      <td>0.076104</td>\n",
       "      <td>0.423135</td>\n",
       "      <td>0.499239</td>\n",
       "    </tr>\n",
       "    <tr>\n",
       "      <th>Low Value</th>\n",
       "      <td>0.084221</td>\n",
       "      <td>0.179097</td>\n",
       "      <td>0.263318</td>\n",
       "    </tr>\n",
       "    <tr>\n",
       "      <th>All</th>\n",
       "      <td>0.229833</td>\n",
       "      <td>0.770167</td>\n",
       "      <td>1.000000</td>\n",
       "    </tr>\n",
       "  </tbody>\n",
       "</table>\n",
       "</div>"
      ],
      "text/plain": [
       "sch                  0         1       All\n",
       "loancategory                              \n",
       "Average       0.069508  0.167935  0.237443\n",
       "High Value    0.076104  0.423135  0.499239\n",
       "Low Value     0.084221  0.179097  0.263318\n",
       "All           0.229833  0.770167  1.000000"
      ]
     },
     "execution_count": 29,
     "metadata": {},
     "output_type": "execute_result"
    }
   ],
   "source": [
    "#Cross Tabulation\n",
    "\n",
    "pd.crosstab(df['loancategory'],df['sch'], margins=True,normalize=True)"
   ]
  },
  {
   "cell_type": "code",
   "execution_count": 30,
   "metadata": {},
   "outputs": [
    {
     "data": {
      "text/html": [
       "<div>\n",
       "<style scoped>\n",
       "    .dataframe tbody tr th:only-of-type {\n",
       "        vertical-align: middle;\n",
       "    }\n",
       "\n",
       "    .dataframe tbody tr th {\n",
       "        vertical-align: top;\n",
       "    }\n",
       "\n",
       "    .dataframe thead th {\n",
       "        text-align: right;\n",
       "    }\n",
       "</style>\n",
       "<table border=\"1\" class=\"dataframe\">\n",
       "  <thead>\n",
       "    <tr style=\"text-align: right;\">\n",
       "      <th>male</th>\n",
       "      <th>0</th>\n",
       "      <th>1</th>\n",
       "      <th>All</th>\n",
       "    </tr>\n",
       "    <tr>\n",
       "      <th>loancategory</th>\n",
       "      <th></th>\n",
       "      <th></th>\n",
       "      <th></th>\n",
       "    </tr>\n",
       "  </thead>\n",
       "  <tbody>\n",
       "    <tr>\n",
       "      <th>Average</th>\n",
       "      <td>0.048706</td>\n",
       "      <td>0.188737</td>\n",
       "      <td>0.237443</td>\n",
       "    </tr>\n",
       "    <tr>\n",
       "      <th>High Value</th>\n",
       "      <td>0.062405</td>\n",
       "      <td>0.436834</td>\n",
       "      <td>0.499239</td>\n",
       "    </tr>\n",
       "    <tr>\n",
       "      <th>Low Value</th>\n",
       "      <td>0.075596</td>\n",
       "      <td>0.187722</td>\n",
       "      <td>0.263318</td>\n",
       "    </tr>\n",
       "    <tr>\n",
       "      <th>All</th>\n",
       "      <td>0.186707</td>\n",
       "      <td>0.813293</td>\n",
       "      <td>1.000000</td>\n",
       "    </tr>\n",
       "  </tbody>\n",
       "</table>\n",
       "</div>"
      ],
      "text/plain": [
       "male                 0         1       All\n",
       "loancategory                              \n",
       "Average       0.048706  0.188737  0.237443\n",
       "High Value    0.062405  0.436834  0.499239\n",
       "Low Value     0.075596  0.187722  0.263318\n",
       "All           0.186707  0.813293  1.000000"
      ]
     },
     "execution_count": 30,
     "metadata": {},
     "output_type": "execute_result"
    }
   ],
   "source": [
    "#Cross Tabulation\n",
    "\n",
    "pd.crosstab(df['loancategory'],df['male'], margins=True,normalize=True)"
   ]
  },
  {
   "cell_type": "markdown",
   "metadata": {},
   "source": [
    "## Simple Visualizations "
   ]
  },
  {
   "cell_type": "code",
   "execution_count": 31,
   "metadata": {},
   "outputs": [],
   "source": [
    "#Importing Relevant Libraries\n",
    "\n",
    "import matplotlib.pyplot as plt"
   ]
  },
  {
   "cell_type": "code",
   "execution_count": 32,
   "metadata": {},
   "outputs": [
    {
     "data": {
      "image/png": "[encoded data removed]",
      "text/plain": [
       "<Figure size 432x288 with 1 Axes>"
      ]
     },
     "metadata": {
      "needs_background": "light"
     },
     "output_type": "display_data"
    }
   ],
   "source": [
    "#Creating a Scatter Plot\n",
    "\n",
    "fig,ax=plt.subplots()\n",
    "maritalStatus=ax.scatter(\n",
    "df['married'],\n",
    "df['loanamt']\n",
    ")\n",
    "ax.set_xlabel('Marital Status')\n",
    "ax.set_ylabel('Loan Amount')\n",
    "ax.set_title('Marital Status Vs Loan Amount')\n",
    "plt.xticks([0,1])\n",
    "\n",
    "plt.show()"
   ]
  },
  {
   "cell_type": "code",
   "execution_count": 33,
   "metadata": {},
   "outputs": [
    {
     "data": {
      "image/png": "[encoded data removed]",
      "text/plain": [
       "<Figure size 432x288 with 1 Axes>"
      ]
     },
     "metadata": {
      "needs_background": "light"
     },
     "output_type": "display_data"
    }
   ],
   "source": [
    "#Creating a Scatter Plot\n",
    "\n",
    "fig,ax=plt.subplots()\n",
    "age=ax.scatter(\n",
    "df['old'],\n",
    "df['loanamt']\n",
    ")\n",
    "ax.set_xlabel('Elderly')\n",
    "ax.set_ylabel('Loan Amount')\n",
    "ax.set_title('Age Vs Loan Amount')\n",
    "plt.xticks([0,1])\n",
    "\n",
    "plt.show()"
   ]
  },
  {
   "cell_type": "code",
   "execution_count": 34,
   "metadata": {},
   "outputs": [
    {
     "data": {
      "image/png": "[encoded data removed]",
      "text/plain": [
       "<Figure size 432x288 with 1 Axes>"
      ]
     },
     "metadata": {
      "needs_background": "light"
     },
     "output_type": "display_data"
    }
   ],
   "source": [
    "#Creating a Scatter Plot\n",
    "\n",
    "fig,ax=plt.subplots()\n",
    "education=ax.scatter(\n",
    "df['sch'],\n",
    "df['loanamt']\n",
    ")\n",
    "ax.set_xlabel('Educated')\n",
    "ax.set_ylabel('Loan Amount')\n",
    "ax.set_title('Education Vs Loan Amount')\n",
    "plt.xticks([0,1])\n",
    "\n",
    "plt.show()"
   ]
  },
  {
   "cell_type": "code",
   "execution_count": 35,
   "metadata": {},
   "outputs": [
    {
     "data": {
      "image/png": "[encoded data removed]",
      "text/plain": [
       "<Figure size 432x288 with 1 Axes>"
      ]
     },
     "metadata": {
      "needs_background": "light"
     },
     "output_type": "display_data"
    }
   ],
   "source": [
    "#Creating a Scatter Plot\n",
    "\n",
    "fig,ax=plt.subplots()\n",
    "maritalStatus=ax.scatter(\n",
    "df['male'],\n",
    "df['loanamt']\n",
    ")\n",
    "ax.set_xlabel('Gender')\n",
    "ax.set_ylabel('Loan Amount')\n",
    "ax.set_title('Gender Vs Loan Amount')\n",
    "plt.xticks([0,1])\n",
    "\n",
    "plt.show()"
   ]
  },
  {
   "cell_type": "code",
   "execution_count": 36,
   "metadata": {
    "scrolled": true
   },
   "outputs": [
    {
     "data": {
      "text/plain": [
       "<matplotlib.axes._subplots.AxesSubplot at 0x192b4bea7b8>"
      ]
     },
     "execution_count": 36,
     "metadata": {},
     "output_type": "execute_result"
    },
    {
     "data": {
      "image/png": "[encoded data removed]",
      "text/plain": [
       "<Figure size 432x288 with 1 Axes>"
      ]
     },
     "metadata": {
      "needs_background": "light"
     },
     "output_type": "display_data"
    }
   ],
   "source": [
    "#Creating a Bar Chart Describing the Uptake of loans Across Loan Categories\n",
    "\n",
    "df.loancategory.value_counts().plot(kind='bar')"
   ]
  },
  {
   "cell_type": "code",
   "execution_count": 37,
   "metadata": {},
   "outputs": [],
   "source": [
    "#Splitting the Data Across Marital Status (Married or Unmarried)\n",
    "\n",
    "married=[]\n",
    "unmarried=[]\n",
    "y=0\n",
    "\n",
    "for x in df['married']:\n",
    "    if x==1:\n",
    "        married.append(df.iloc[y,0])\n",
    "    elif x==0:\n",
    "        unmarried.append(df.iloc[y,0])\n",
    "    y+=1\n",
    "\n",
    "married=pd.Series(married)\n",
    "unmarried=pd.Series(unmarried)"
   ]
  },
  {
   "cell_type": "code",
   "execution_count": 38,
   "metadata": {},
   "outputs": [],
   "source": [
    "#Importing Relevant Libraries\n",
    "\n",
    "from statsmodels.stats.weightstats import ttest_ind"
   ]
  },
  {
   "cell_type": "code",
   "execution_count": 39,
   "metadata": {},
   "outputs": [
    {
     "data": {
      "text/plain": [
       "(8.211171061299025, 3.916311248815875e-16, 1969.0)"
      ]
     },
     "execution_count": 39,
     "metadata": {},
     "output_type": "execute_result"
    }
   ],
   "source": [
    "#T-test to Determine if there is a Statistical Difference in Loan Amount Requested Across Categories\n",
    "\n",
    "maritalttest = ttest_ind(married,unmarried)\n",
    "maritalttest"
   ]
  },
  {
   "cell_type": "code",
   "execution_count": 40,
   "metadata": {},
   "outputs": [],
   "source": [
    "#Splitting the Data Across Age (Young or Old)\n",
    "\n",
    "\n",
    "old=[]\n",
    "young=[]\n",
    "y=0\n",
    "\n",
    "for x in df['old']:\n",
    "    if x==1:\n",
    "        old.append(df.iloc[y,0])\n",
    "    elif x==0:\n",
    "        young.append(df.iloc[y,0])\n",
    "    y+=1\n",
    "\n",
    "old=pd.Series(old)\n",
    "young=pd.Series(young)"
   ]
  },
  {
   "cell_type": "code",
   "execution_count": 41,
   "metadata": {},
   "outputs": [
    {
     "data": {
      "text/plain": [
       "(3.520080449318185, 0.0004412212805026949, 1969.0)"
      ]
     },
     "execution_count": 41,
     "metadata": {},
     "output_type": "execute_result"
    }
   ],
   "source": [
    "#T-test to Determine if there is a Statistical Difference in Loan Amount Requested Across Categories\n",
    "\n",
    "agettest = ttest_ind(old,young)\n",
    "agettest"
   ]
  },
  {
   "cell_type": "code",
   "execution_count": 42,
   "metadata": {},
   "outputs": [],
   "source": [
    "#Splitting the Data Across Eucation Status (Educated or Uneducated)\n",
    "\n",
    "edu=[]\n",
    "unedu=[]\n",
    "y=0\n",
    "\n",
    "for x in df['sch']:\n",
    "    if x==1:\n",
    "        edu.append(df.iloc[y,0])\n",
    "    elif x==0:\n",
    "        unedu.append(df.iloc[y,0])\n",
    "    y+=1\n",
    "\n",
    "edu=pd.Series(edu)\n",
    "unedu=pd.Series(unedu)"
   ]
  },
  {
   "cell_type": "code",
   "execution_count": 43,
   "metadata": {},
   "outputs": [
    {
     "data": {
      "text/plain": [
       "(8.305104892308528, 1.8307348092605922e-16, 1969.0)"
      ]
     },
     "execution_count": 43,
     "metadata": {},
     "output_type": "execute_result"
    }
   ],
   "source": [
    "#T-test to Determine if there is a Statistical Difference in Loan Amount Requested Across Categories\n",
    "\n",
    "eduttest = ttest_ind(edu,unedu)\n",
    "eduttest"
   ]
  },
  {
   "cell_type": "code",
   "execution_count": 44,
   "metadata": {},
   "outputs": [],
   "source": [
    "#Splitting the Data Across Gender (Male or Female)\n",
    "\n",
    "male=[]\n",
    "female=[]\n",
    "y=0\n",
    "\n",
    "for x in df['male']:\n",
    "    if x==1:\n",
    "        male.append(df.iloc[y,0])\n",
    "    elif x==0:\n",
    "        female.append(df.iloc[y,0])\n",
    "    y+=1\n",
    "male=pd.Series(male)\n",
    "female=pd.Series(female)"
   ]
  },
  {
   "cell_type": "code",
   "execution_count": 45,
   "metadata": {},
   "outputs": [
    {
     "data": {
      "text/plain": [
       "(6.097221550754392, 1.2954277927489294e-09, 1969.0)"
      ]
     },
     "execution_count": 45,
     "metadata": {},
     "output_type": "execute_result"
    }
   ],
   "source": [
    "#T-test to Determine if there is a Statistical Difference in Loan Amount Requested Across Categories\n",
    "\n",
    "sexttest = ttest_ind(male,female)\n",
    "sexttest"
   ]
  },
  {
   "cell_type": "code",
   "execution_count": null,
   "metadata": {},
   "outputs": [],
   "source": []
  },
  {
   "cell_type": "code",
   "execution_count": null,
   "metadata": {},
   "outputs": [],
   "source": []
  },
  {
   "cell_type": "code",
   "execution_count": null,
   "metadata": {},
   "outputs": [],
   "source": []
  }
 ],
 "metadata": {
  "kernelspec": {
   "display_name": "Python 3",
   "language": "python",
   "name": "python3"
  },
  "language_info": {
   "codemirror_mode": {
    "name": "ipython",
    "version": 3
   },
   "file_extension": ".py",
   "mimetype": "text/x-python",
   "name": "python",
   "nbconvert_exporter": "python",
   "pygments_lexer": "ipython3",
   "version": "3.7.0"
  }
 },
 "nbformat": 4,
 "nbformat_minor": 2
}
